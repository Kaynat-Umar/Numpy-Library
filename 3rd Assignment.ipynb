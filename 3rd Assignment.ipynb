{
 "cells": [
  {
   "cell_type": "code",
   "execution_count": 1,
   "id": "3a783c08",
   "metadata": {},
   "outputs": [
    {
     "name": "stdout",
     "output_type": "stream",
     "text": [
      "[0. 0. 0. 0. 0. 0. 0. 0. 0. 0.]\n"
     ]
    }
   ],
   "source": [
    "#Create a numpy array of size 10, filled with zeros\n",
    "import numpy as np\n",
    "\n",
    "zeros_array = np.zeros(10)\n",
    "\n",
    "print(zeros_array)"
   ]
  },
  {
   "cell_type": "code",
   "execution_count": 2,
   "id": "27b28289",
   "metadata": {},
   "outputs": [
    {
     "name": "stdout",
     "output_type": "stream",
     "text": [
      "[10. 11. 12. 13. 14. 15. 16. 17. 18. 19. 20. 21. 22. 23. 24. 25. 26. 27.\n",
      " 28. 29. 30. 31. 32. 33. 34. 35. 36. 37. 38. 39. 40. 41. 42. 43. 44. 45.\n",
      " 46. 47. 48. 49.]\n"
     ]
    }
   ],
   "source": [
    "#Create a numpy array with values ranging from 10 to 49 and set its datatype to float\n",
    "\n",
    "float_array = np.arange(10, 50, dtype=float)\n",
    "\n",
    "print(float_array)"
   ]
  },
  {
   "cell_type": "code",
   "execution_count": 3,
   "id": "e974101c",
   "metadata": {},
   "outputs": [
    {
     "name": "stdout",
     "output_type": "stream",
     "text": [
      "[[1 1]\n",
      " [1 1]]\n"
     ]
    }
   ],
   "source": [
    "#Create a numpy matrix of 2*2 integers, filled with ones.\n",
    "\n",
    "ones_matrix = np.ones((2, 2), dtype=int)\n",
    "\n",
    "print(ones_matrix)"
   ]
  },
  {
   "cell_type": "code",
   "execution_count": 4,
   "id": "edb2929c",
   "metadata": {},
   "outputs": [
    {
     "name": "stdout",
     "output_type": "stream",
     "text": [
      "[[1. 1.]\n",
      " [1. 1.]\n",
      " [1. 1.]]\n"
     ]
    }
   ],
   "source": [
    "#Create a numpy matrix of 3*2 float numbers, filled with ones.\n",
    "\n",
    "ones_matrix_float = np.ones((3, 2), dtype=float)\n",
    "\n",
    "print(ones_matrix_float)"
   ]
  },
  {
   "cell_type": "code",
   "execution_count": 5,
   "id": "b41cb98a",
   "metadata": {},
   "outputs": [
    {
     "name": "stdout",
     "output_type": "stream",
     "text": [
      "[[1 1 1]\n",
      " [1 1 1]]\n"
     ]
    }
   ],
   "source": [
    "#Given the X numpy array, create a new numpy array with the same shape and type as X, filled with ones. \n",
    "\n",
    "X = np.array([[1, 2, 3],\n",
    "              [4, 5, 6]])\n",
    "\n",
    "# Create a new array with the same shape and type as X, filled with ones\n",
    "ones_like_X = np.ones_like(X)\n",
    "\n",
    "print(ones_like_X)\n"
   ]
  },
  {
   "cell_type": "code",
   "execution_count": 6,
   "id": "7e8ea835",
   "metadata": {},
   "outputs": [
    {
     "name": "stdout",
     "output_type": "stream",
     "text": [
      "[[0 0 0]\n",
      " [0 0 0]]\n"
     ]
    }
   ],
   "source": [
    "#Given the X numpy matrix, create a new numpy matrix with the same shape and type as X, filled with zeros. (hint: similar function as above exists for zeros as well)\n",
    "# Given matrix X\n",
    "X = np.array([[1, 2, 3],\n",
    "              [4, 5, 6]])\n",
    "\n",
    "# Create a new matrix with the same shape and type as X, filled with zeros\n",
    "zeros_like_X = np.zeros_like(X)\n",
    "\n",
    "print(zeros_like_X)"
   ]
  },
  {
   "cell_type": "code",
   "execution_count": 7,
   "id": "49057bf0",
   "metadata": {},
   "outputs": [
    {
     "name": "stdout",
     "output_type": "stream",
     "text": [
      "[[5 5 5 5]\n",
      " [5 5 5 5]\n",
      " [5 5 5 5]\n",
      " [5 5 5 5]]\n"
     ]
    }
   ],
   "source": [
    "#Create a numpy matrix of 4*4 integers, filled with fives.\n",
    "\n",
    "# Create a 4x4 NumPy matrix filled with fives\n",
    "matrix_of_fives = np.full((4, 4), 5, dtype=int)\n",
    "\n",
    "print(matrix_of_fives)"
   ]
  },
  {
   "cell_type": "code",
   "execution_count": 8,
   "id": "ccf6db64",
   "metadata": {},
   "outputs": [
    {
     "name": "stdout",
     "output_type": "stream",
     "text": [
      "[[7 7 7]\n",
      " [7 7 7]]\n"
     ]
    }
   ],
   "source": [
    "#Given the X numpy matrix, create a new numpy matrix with the same shape and type as X, filled with sevens.\n",
    "\n",
    "# Given matrix X\n",
    "X = np.array([[1, 2, 3],\n",
    "              [4, 5, 6]])\n",
    "\n",
    "# Create a new matrix with the same shape and type as X, filled with sevens\n",
    "sevens_like_X = np.full_like(X, 7)\n",
    "\n",
    "print(sevens_like_X)"
   ]
  },
  {
   "cell_type": "code",
   "execution_count": 9,
   "id": "96e2bb95",
   "metadata": {},
   "outputs": [
    {
     "name": "stdout",
     "output_type": "stream",
     "text": [
      "[[1 0 0]\n",
      " [0 1 0]\n",
      " [0 0 1]]\n"
     ]
    }
   ],
   "source": [
    "#Create a 3*3 identity numpy matrix with ones on the diagonal and zeros elsewhere.\n",
    "\n",
    "identity_matrix = np.eye(3, dtype=int)\n",
    "\n",
    "print(identity_matrix)"
   ]
  },
  {
   "cell_type": "code",
   "execution_count": 10,
   "id": "cc5f23c8",
   "metadata": {},
   "outputs": [
    {
     "name": "stdout",
     "output_type": "stream",
     "text": [
      "[ 7  9 10]\n"
     ]
    }
   ],
   "source": [
    "#Create a numpy array, filled with 3 random integer values between 1 and 10.\n",
    "\n",
    "random_array = np.random.randint(1, 11, size=3)\n",
    "\n",
    "print(random_array)"
   ]
  },
  {
   "cell_type": "code",
   "execution_count": 11,
   "id": "b8238c2a",
   "metadata": {},
   "outputs": [
    {
     "name": "stdout",
     "output_type": "stream",
     "text": [
      "[[[0.78318093 0.18726529 0.99509237]\n",
      "  [0.67365681 0.97565035 0.98789296]\n",
      "  [0.19625348 0.03911592 0.35768031]]\n",
      "\n",
      " [[0.9608466  0.00327227 0.90997599]\n",
      "  [0.04493533 0.62496737 0.36297871]\n",
      "  [0.5423832  0.33764223 0.38048142]]\n",
      "\n",
      " [[0.60832974 0.47909951 0.76337536]\n",
      "  [0.45385577 0.04021211 0.66011349]\n",
      "  [0.3467757  0.15990353 0.67274316]]]\n"
     ]
    }
   ],
   "source": [
    "#Create a 3*3*3 numpy matrix, filled with random float values.\n",
    "\n",
    "random_float_matrix = np.random.rand(3, 3, 3)\n",
    "\n",
    "print(random_float_matrix)"
   ]
  },
  {
   "cell_type": "code",
   "execution_count": 12,
   "id": "74ea02fc",
   "metadata": {},
   "outputs": [
    {
     "name": "stdout",
     "output_type": "stream",
     "text": [
      "[ 1  2  3  4  5  6  7  8  9 10]\n"
     ]
    }
   ],
   "source": [
    "#Create a numpy array with numbers from 1 to 10\n",
    "\n",
    "array_from_1_to_10 = np.arange(1, 11)\n",
    "\n",
    "print(array_from_1_to_10)\n"
   ]
  },
  {
   "cell_type": "code",
   "execution_count": 13,
   "id": "e2e86c52",
   "metadata": {},
   "outputs": [
    {
     "name": "stdout",
     "output_type": "stream",
     "text": [
      "[1 3 5 7 9]\n"
     ]
    }
   ],
   "source": [
    "#Create a numpy array with the odd numbers between 1 to 10\n",
    "\n",
    "odd_numbers_array = np.arange(1, 11, step=2)\n",
    "\n",
    "print(odd_numbers_array)"
   ]
  },
  {
   "cell_type": "code",
   "execution_count": 14,
   "id": "619f18df",
   "metadata": {},
   "outputs": [
    {
     "name": "stdout",
     "output_type": "stream",
     "text": [
      "[10  9  8  7  6  5  4  3  2  1]\n"
     ]
    }
   ],
   "source": [
    "#Create a numpy array with numbers from 1 to 10, in descending order.\n",
    "\n",
    "descending_array = np.arange(10, 0, -1)\n",
    "\n",
    "print(descending_array)"
   ]
  },
  {
   "cell_type": "code",
   "execution_count": 15,
   "id": "d9072fa9",
   "metadata": {},
   "outputs": [
    {
     "name": "stdout",
     "output_type": "stream",
     "text": [
      "[[0 1 2]\n",
      " [3 4 5]\n",
      " [6 7 8]]\n"
     ]
    }
   ],
   "source": [
    "#Create a 3*3 numpy matrix, filled with values ranging from 0 to 8\n",
    "\n",
    "matrix_0_to_8 = np.arange(9).reshape(3, 3)\n",
    "\n",
    "print(matrix_0_to_8)"
   ]
  },
  {
   "cell_type": "code",
   "execution_count": 16,
   "id": "fa832a83",
   "metadata": {},
   "outputs": [
    {
     "name": "stdout",
     "output_type": "stream",
     "text": [
      "A\n"
     ]
    }
   ],
   "source": [
    "# Array indexing:\n",
    "\n",
    "# Given the X numpy array, show its first element\n",
    "\n",
    "X = np.array(['A','B','C','D','E'])\n",
    "\n",
    "first_element = X[0]\n",
    "\n",
    "print(first_element)\n"
   ]
  },
  {
   "cell_type": "code",
   "execution_count": 17,
   "id": "a356c052",
   "metadata": {},
   "outputs": [
    {
     "name": "stdout",
     "output_type": "stream",
     "text": [
      "E\n"
     ]
    }
   ],
   "source": [
    "#Given the X numpy array, show its last element\n",
    "\n",
    "X = np.array(['A','B','C','D','E'])\n",
    "\n",
    "last_element = X[-1]\n",
    "\n",
    "print(last_element)"
   ]
  },
  {
   "cell_type": "code",
   "execution_count": 18,
   "id": "dea9d7e7",
   "metadata": {},
   "outputs": [
    {
     "name": "stdout",
     "output_type": "stream",
     "text": [
      "['A' 'B' 'C']\n"
     ]
    }
   ],
   "source": [
    "#Given the X numpy array, show its first three elements\n",
    "\n",
    "X = np.array(['A','B','C','D','E'])\n",
    "\n",
    "first_three_elements = X[:3]\n",
    "\n",
    "print(first_three_elements)"
   ]
  },
  {
   "cell_type": "code",
   "execution_count": 19,
   "id": "3a48b342",
   "metadata": {},
   "outputs": [
    {
     "name": "stdout",
     "output_type": "stream",
     "text": [
      "C\n"
     ]
    }
   ],
   "source": [
    "#Given the X numpy array, show all middle elements\n",
    "\n",
    "X = np.array(['A','B','C','D','E'])\n",
    "\n",
    "length = len(X)\n",
    "\n",
    "if length % 2 == 0:\n",
    "    # If the length is even, there are two middle elements\n",
    "    middle_elements = X[length // 2 - 1 : length // 2 + 1]\n",
    "else:\n",
    "    # If the length is odd, there is a single middle element\n",
    "    middle_elements = X[length // 2]\n",
    "\n",
    "print(middle_elements)"
   ]
  },
  {
   "cell_type": "code",
   "execution_count": 20,
   "id": "31951aa7",
   "metadata": {},
   "outputs": [
    {
     "name": "stdout",
     "output_type": "stream",
     "text": [
      "['E' 'D' 'C' 'B' 'A']\n"
     ]
    }
   ],
   "source": [
    "#Given the X numpy array, show the elements in reverse position.\n",
    "\n",
    "X = np.array(['A','B','C','D','E'])\n",
    "\n",
    "reverse_elements = X[::-1]\n",
    "\n",
    "print(reverse_elements)"
   ]
  },
  {
   "cell_type": "code",
   "execution_count": 21,
   "id": "6ba6714f",
   "metadata": {},
   "outputs": [
    {
     "name": "stdout",
     "output_type": "stream",
     "text": [
      "['A' 'C' 'E']\n"
     ]
    }
   ],
   "source": [
    "#Given the X numpy array, show the elements in an odd position.\n",
    "\n",
    "X = np.array(['A','B','C','D','E'])\n",
    "\n",
    "odd_position_elements = X[::2]\n",
    "\n",
    "print(odd_position_elements)"
   ]
  },
  {
   "cell_type": "code",
   "execution_count": 22,
   "id": "92cbf673",
   "metadata": {},
   "outputs": [
    {
     "name": "stdout",
     "output_type": "stream",
     "text": [
      "[1 2 3 4]\n"
     ]
    }
   ],
   "source": [
    "#Given the X numpy matrix, show the first row’s elements.\n",
    "\n",
    "X = np.array([\n",
    "    [1,   2,  3,  4],\n",
    "    [5,   6,  7,  8],\n",
    "    [9,  10, 11, 12],\n",
    "    [13, 14, 15, 16]\n",
    "])\n",
    "\n",
    "first_row_elements = X[0, :]\n",
    "\n",
    "print(first_row_elements)"
   ]
  },
  {
   "cell_type": "code",
   "execution_count": 23,
   "id": "2ea787d8",
   "metadata": {},
   "outputs": [
    {
     "name": "stdout",
     "output_type": "stream",
     "text": [
      "[13 14 15 16]\n"
     ]
    }
   ],
   "source": [
    "#Given the X numpy matrix, show the last row elements.\n",
    "\n",
    "X = np.array([\n",
    "    [1,   2,  3,  4],\n",
    "    [5,   6,  7,  8],\n",
    "    [9,  10, 11, 12],\n",
    "    [13, 14, 15, 16]\n",
    "])\n",
    "\n",
    "last_row_elements = X[-1, :]\n",
    "\n",
    "print(last_row_elements)"
   ]
  },
  {
   "cell_type": "code",
   "execution_count": 24,
   "id": "44e5f461",
   "metadata": {},
   "outputs": [
    {
     "name": "stdout",
     "output_type": "stream",
     "text": [
      "1\n"
     ]
    }
   ],
   "source": [
    "#Given the X numpy matrix, show the first element on first row\n",
    "\n",
    "X = np.array([\n",
    "    [1, 2, 3, 4],\n",
    "    [5, 6, 7, 8],\n",
    "    [9, 10, 11, 12],\n",
    "    [13, 14, 15, 16]\n",
    "])\n",
    "\n",
    "first_element_first_row = X[0, 0]\n",
    "\n",
    "print(first_element_first_row)"
   ]
  },
  {
   "cell_type": "code",
   "execution_count": 25,
   "id": "3ee6863c",
   "metadata": {},
   "outputs": [
    {
     "name": "stdout",
     "output_type": "stream",
     "text": [
      "16\n"
     ]
    }
   ],
   "source": [
    "# Given the X numpy matrix, show the last element on last row.\n",
    "\n",
    "X = np.array([\n",
    "    [1,   2,  3,  4],\n",
    "    [5,   6,  7,  8],\n",
    "    [9,  10, 11, 12],\n",
    "    [13, 14, 15, 16]\n",
    "])\n",
    "\n",
    "last_element_last_row = X[-1, -1]\n",
    "\n",
    "print(last_element_last_row)"
   ]
  },
  {
   "cell_type": "code",
   "execution_count": 26,
   "id": "01c5eb43",
   "metadata": {},
   "outputs": [
    {
     "name": "stdout",
     "output_type": "stream",
     "text": [
      "[[1 2]\n",
      " [5 6]]\n"
     ]
    }
   ],
   "source": [
    "# Given the X numpy matrix, show the first two elements on the first two rows.\n",
    "\n",
    "X = np.array([\n",
    "    [1,   2,  3,  4],\n",
    "    [5,   6,  7,  8],\n",
    "    [9,  10, 11, 12],\n",
    "    [13, 14, 15, 16]\n",
    "])\n",
    "\n",
    "first_two_elements_first_two_rows = X[:2, :2]\n",
    "\n",
    "print(first_two_elements_first_two_rows)"
   ]
  },
  {
   "cell_type": "code",
   "execution_count": 27,
   "id": "0b370691",
   "metadata": {},
   "outputs": [
    {
     "name": "stdout",
     "output_type": "stream",
     "text": [
      "[[11 12]\n",
      " [15 16]]\n"
     ]
    }
   ],
   "source": [
    "# Given the X numpy matrix, show the last two elements on the last two rows\n",
    "\n",
    "X = np.array([\n",
    "    [1,   2,  3,  4],\n",
    "    [5,   6,  7,  8],\n",
    "    [9,  10, 11, 12],\n",
    "    [13, 14, 15, 16]\n",
    "])\n",
    "\n",
    "last_two_elements_last_two_rows = X[-2:, -2:]\n",
    "\n",
    "print(last_two_elements_last_two_rows)"
   ]
  },
  {
   "cell_type": "code",
   "execution_count": 28,
   "id": "0a2475cc",
   "metadata": {},
   "outputs": [
    {
     "name": "stdout",
     "output_type": "stream",
     "text": [
      "[-5. -3.  0. 10. 40.]\n"
     ]
    }
   ],
   "source": [
    "# Array manipulation\n",
    "\n",
    "# Convert the given integer numpy array to float (you need to google the function that will help you do this)\n",
    "\n",
    "X = [-5, -3, 0, 10, 40]\n",
    "\n",
    "X_float = np.array(X, dtype=float)\n",
    "\n",
    "print(X_float)\n"
   ]
  },
  {
   "cell_type": "code",
   "execution_count": 29,
   "id": "7518df77",
   "metadata": {},
   "outputs": [
    {
     "name": "stdout",
     "output_type": "stream",
     "text": [
      "[40, 10, 0, -3, -5]\n"
     ]
    }
   ],
   "source": [
    "# Reverse the given numpy array (first element becomes last) through indexing\n",
    "\n",
    "X = [-5, -3, 0, 10, 40]\n",
    "\n",
    "reversed_X = X[::-1]\n",
    "\n",
    "print(reversed_X)"
   ]
  },
  {
   "cell_type": "code",
   "execution_count": 30,
   "id": "195390bc",
   "metadata": {},
   "outputs": [
    {
     "name": "stdout",
     "output_type": "stream",
     "text": [
      "[0. 0. 0. 0. 1. 0. 0. 0. 0. 0.]\n"
     ]
    }
   ],
   "source": [
    "# Given the X numpy array, set the fifth element equal to 1\n",
    "\n",
    "X = np.zeros(10)\n",
    "\n",
    "X[4] = 1\n",
    "\n",
    "print(X)"
   ]
  },
  {
   "cell_type": "code",
   "execution_count": 31,
   "id": "f78f6b5b",
   "metadata": {},
   "outputs": [
    {
     "name": "stdout",
     "output_type": "stream",
     "text": [
      "[[ 1  2  3  4]\n",
      " [ 5  6  7  8]\n",
      " [ 9 10 11 12]\n",
      " [ 1  1  1  1]]\n"
     ]
    }
   ],
   "source": [
    "# Given the X numpy matrix, change the last row with all 1\n",
    "\n",
    "X = np.array([\n",
    "    [1,   2,  3,  4],\n",
    "    [5,   6,  7,  8],\n",
    "    [9,  10, 11, 12],\n",
    "    [13, 14, 15, 16]\n",
    "])\n",
    "\n",
    "X[-1, :] = 1\n",
    "\n",
    "print(X)"
   ]
  },
  {
   "cell_type": "code",
   "execution_count": 32,
   "id": "dfaa82bd",
   "metadata": {},
   "outputs": [
    {
     "name": "stdout",
     "output_type": "stream",
     "text": [
      "[[ 6  7  8  9]\n",
      " [10 11 12 13]\n",
      " [14 15 16 17]\n",
      " [18 19 20 21]]\n"
     ]
    }
   ],
   "source": [
    "# Given the X numpy matrix, add 5 to every element\n",
    "\n",
    "X = np.array([\n",
    "    [1,   2,  3,  4],\n",
    "    [5,   6,  7,  8],\n",
    "    [9,  10, 11, 12],\n",
    "    [13, 14, 15, 16]\n",
    "])\n",
    "\n",
    "X_plus_5 = X + 5\n",
    "\n",
    "print(X_plus_5)"
   ]
  },
  {
   "cell_type": "code",
   "execution_count": null,
   "id": "41adea91",
   "metadata": {},
   "outputs": [],
   "source": []
  }
 ],
 "metadata": {
  "kernelspec": {
   "display_name": "Python 3 (ipykernel)",
   "language": "python",
   "name": "python3"
  },
  "language_info": {
   "codemirror_mode": {
    "name": "ipython",
    "version": 3
   },
   "file_extension": ".py",
   "mimetype": "text/x-python",
   "name": "python",
   "nbconvert_exporter": "python",
   "pygments_lexer": "ipython3",
   "version": "3.11.5"
  }
 },
 "nbformat": 4,
 "nbformat_minor": 5
}
